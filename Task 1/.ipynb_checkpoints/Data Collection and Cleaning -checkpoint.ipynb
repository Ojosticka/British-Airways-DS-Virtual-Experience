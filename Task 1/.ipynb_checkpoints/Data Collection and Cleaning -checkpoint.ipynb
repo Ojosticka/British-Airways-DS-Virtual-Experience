{
 "cells": [
  {
   "cell_type": "markdown",
   "id": "18309b0b",
   "metadata": {},
   "source": [
    "## British Airways DS Virtual Experience Program "
   ]
  },
  {
   "cell_type": "markdown",
   "id": "87c273fc",
   "metadata": {},
   "source": [
    "### **Task 1** \n",
    "#### Title: Web Scraping to gain company insights"
   ]
  },
  {
   "cell_type": "markdown",
   "id": "7f5d516a",
   "metadata": {},
   "source": [
    "#### **Data Gathering**"
   ]
  },
  {
   "cell_type": "code",
   "execution_count": null,
   "id": "d59cb05f",
   "metadata": {},
   "outputs": [],
   "source": []
  }
 ],
 "metadata": {
  "kernelspec": {
   "display_name": "Python 3 (ipykernel)",
   "language": "python",
   "name": "python3"
  },
  "language_info": {
   "codemirror_mode": {
    "name": "ipython",
    "version": 3
   },
   "file_extension": ".py",
   "mimetype": "text/x-python",
   "name": "python",
   "nbconvert_exporter": "python",
   "pygments_lexer": "ipython3",
   "version": "3.9.7"
  }
 },
 "nbformat": 4,
 "nbformat_minor": 5
}
