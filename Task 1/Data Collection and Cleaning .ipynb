{
 "cells": [
  {
   "cell_type": "markdown",
   "id": "18309b0b",
   "metadata": {},
   "source": [
    "## **British Airways DS Virtual Experience Program**"
   ]
  },
  {
   "cell_type": "markdown",
   "id": "87c273fc",
   "metadata": {},
   "source": [
    "### **Task 1** \n",
    "#### Title: Web Scraping to gain company insights"
   ]
  },
  {
   "cell_type": "markdown",
   "id": "7f5d516a",
   "metadata": {},
   "source": [
    "#### **Data Gathering**\n",
    "\n",
    "In this section, we would be collecting customer ratings data from the airline website(particularly for British Airways) called [Skytrax](https://www.airlinequality.com/airline-reviews/british-airways). We would be using a web scraping tool called Beautiful Soup. Specific data to be collected include data about airline ratings, seat ratings and lounge experience ratings"
   ]
  },
  {
   "cell_type": "code",
   "execution_count": 17,
   "id": "d59cb05f",
   "metadata": {},
   "outputs": [],
   "source": [
    "#importing important libraries to be used in this section\n",
    "\n",
    "import pandas as pd\n",
    "import numpy as np\n",
    "from bs4 import BeautifulSoup as bs\n",
    "import matplotlib.pyplot as plt\n",
    "import seaborn as sns\n",
    "import os\n",
    "import requests "
   ]
  },
  {
   "cell_type": "code",
   "execution_count": 6,
   "id": "b18a94ef",
   "metadata": {},
   "outputs": [],
   "source": [
    "#create an empty list to collect all reviews\n",
    "reviews  = []\n",
    "\n",
    "#create an empty list to collect rating stars\n",
    "stars = []\n",
    "\n",
    "#create an empty list to collect date\n",
    "date = []\n",
    "\n",
    "#create an empty list to collect country the reviewer is from\n",
    "country = []"
   ]
  },
  {
   "cell_type": "code",
   "execution_count": 7,
   "id": "9c57c040",
   "metadata": {},
   "outputs": [
    {
     "name": "stdout",
     "output_type": "stream",
     "text": [
      "Error on page 29\n",
      "Error on page 31\n",
      "Error on page 31\n",
      "Error on page 33\n",
      "Error on page 33\n"
     ]
    }
   ],
   "source": [
    "for i in range(1, 36):\n",
    "    page = requests.get(f\"https://www.airlinequality.com/airline-reviews/british-airways/page/{i}/?sortby=post_date%3ADesc&pagesize=100\")\n",
    "    \n",
    "    soup = bs(page.content, \"html5\")\n",
    "    \n",
    "    for item in soup.find_all(\"div\", class_=\"text_content\"):\n",
    "        reviews.append(item.text)\n",
    "    \n",
    "    for item in soup.find_all(\"div\", class_ = \"rating-10\"):\n",
    "        try:\n",
    "            stars.append(item.span.text)\n",
    "        except:\n",
    "            print(f\"Error on page {i}\")\n",
    "            stars.append(\"None\")\n",
    "            \n",
    "    #date\n",
    "    for item in soup.find_all(\"time\"):\n",
    "        date.append(item.text)\n",
    "        \n",
    "    #country\n",
    "    for item in soup.find_all(\"h3\"):\n",
    "        country.append(item.span.next_sibling.text.strip(\" ()\"))"
   ]
  },
  {
   "cell_type": "code",
   "execution_count": 12,
   "id": "261b2463",
   "metadata": {},
   "outputs": [
    {
     "data": {
      "text/plain": [
       "(3451, 3486, 3451, 3451)"
      ]
     },
     "execution_count": 12,
     "metadata": {},
     "output_type": "execute_result"
    }
   ],
   "source": [
    "#checking the lengths of the lists\n",
    "len(reviews), len(stars), len(date), len(country)"
   ]
  },
  {
   "cell_type": "code",
   "execution_count": 13,
   "id": "7dfe3ecf",
   "metadata": {},
   "outputs": [],
   "source": [
    "#taking only the first 3451 star ratings\n",
    "stars = stars[:3451]"
   ]
  },
  {
   "cell_type": "code",
   "execution_count": 14,
   "id": "7f80b170",
   "metadata": {},
   "outputs": [
    {
     "data": {
      "text/plain": [
       "3451"
      ]
     },
     "execution_count": 14,
     "metadata": {},
     "output_type": "execute_result"
    }
   ],
   "source": [
    "len(stars)"
   ]
  },
  {
   "cell_type": "code",
   "execution_count": 15,
   "id": "72fb2b3b",
   "metadata": {},
   "outputs": [
    {
     "data": {
      "text/html": [
       "<div>\n",
       "<style scoped>\n",
       "    .dataframe tbody tr th:only-of-type {\n",
       "        vertical-align: middle;\n",
       "    }\n",
       "\n",
       "    .dataframe tbody tr th {\n",
       "        vertical-align: top;\n",
       "    }\n",
       "\n",
       "    .dataframe thead th {\n",
       "        text-align: right;\n",
       "    }\n",
       "</style>\n",
       "<table border=\"1\" class=\"dataframe\">\n",
       "  <thead>\n",
       "    <tr style=\"text-align: right;\">\n",
       "      <th></th>\n",
       "      <th>reviews</th>\n",
       "      <th>stars</th>\n",
       "      <th>date</th>\n",
       "      <th>country</th>\n",
       "    </tr>\n",
       "  </thead>\n",
       "  <tbody>\n",
       "    <tr>\n",
       "      <th>0</th>\n",
       "      <td>✅ Trip Verified | Probably the worst business ...</td>\n",
       "      <td>\\n\\t\\t\\t\\t\\t\\t\\t\\t\\t\\t\\t\\t\\t5</td>\n",
       "      <td>2nd January 2023</td>\n",
       "      <td>United States</td>\n",
       "    </tr>\n",
       "    <tr>\n",
       "      <th>1</th>\n",
       "      <td>✅ Trip Verified | Definitely not recommended, ...</td>\n",
       "      <td>1</td>\n",
       "      <td>2nd January 2023</td>\n",
       "      <td>United States</td>\n",
       "    </tr>\n",
       "    <tr>\n",
       "      <th>2</th>\n",
       "      <td>✅ Trip Verified |  BA shuttle service across t...</td>\n",
       "      <td>2</td>\n",
       "      <td>2nd January 2023</td>\n",
       "      <td>United Kingdom</td>\n",
       "    </tr>\n",
       "    <tr>\n",
       "      <th>3</th>\n",
       "      <td>✅ Trip Verified | I must admit like many other...</td>\n",
       "      <td>8</td>\n",
       "      <td>1st January 2023</td>\n",
       "      <td>United Kingdom</td>\n",
       "    </tr>\n",
       "    <tr>\n",
       "      <th>4</th>\n",
       "      <td>Not Verified |  When will BA update their Busi...</td>\n",
       "      <td>6</td>\n",
       "      <td>30th December 2022</td>\n",
       "      <td>United Kingdom</td>\n",
       "    </tr>\n",
       "  </tbody>\n",
       "</table>\n",
       "</div>"
      ],
      "text/plain": [
       "                                             reviews  \\\n",
       "0  ✅ Trip Verified | Probably the worst business ...   \n",
       "1  ✅ Trip Verified | Definitely not recommended, ...   \n",
       "2  ✅ Trip Verified |  BA shuttle service across t...   \n",
       "3  ✅ Trip Verified | I must admit like many other...   \n",
       "4  Not Verified |  When will BA update their Busi...   \n",
       "\n",
       "                           stars                date         country  \n",
       "0  \\n\\t\\t\\t\\t\\t\\t\\t\\t\\t\\t\\t\\t\\t5    2nd January 2023   United States  \n",
       "1                              1    2nd January 2023   United States  \n",
       "2                              2    2nd January 2023  United Kingdom  \n",
       "3                              8    1st January 2023  United Kingdom  \n",
       "4                              6  30th December 2022  United Kingdom  "
      ]
     },
     "execution_count": 15,
     "metadata": {},
     "output_type": "execute_result"
    }
   ],
   "source": [
    "#creating a dataframe to store the outputs\n",
    "df = pd.DataFrame({\"reviews\":reviews,\"stars\": stars, \"date\":date, \"country\": country})\n",
    "df.head()"
   ]
  },
  {
   "cell_type": "code",
   "execution_count": 16,
   "id": "498c45e0",
   "metadata": {},
   "outputs": [
    {
     "data": {
      "text/plain": [
       "(3451, 4)"
      ]
     },
     "execution_count": 16,
     "metadata": {},
     "output_type": "execute_result"
    }
   ],
   "source": [
    "df.shape"
   ]
  },
  {
   "cell_type": "markdown",
   "id": "80eaffd4",
   "metadata": {},
   "source": [
    "#### **Data Cleaning**\n",
    "\n",
    "In this section, we would need to clean the data and ensure our columns are in the right format for analysis going forward."
   ]
  },
  {
   "cell_type": "code",
   "execution_count": 18,
   "id": "8761d8ca",
   "metadata": {},
   "outputs": [
    {
     "data": {
      "text/html": [
       "<div>\n",
       "<style scoped>\n",
       "    .dataframe tbody tr th:only-of-type {\n",
       "        vertical-align: middle;\n",
       "    }\n",
       "\n",
       "    .dataframe tbody tr th {\n",
       "        vertical-align: top;\n",
       "    }\n",
       "\n",
       "    .dataframe thead th {\n",
       "        text-align: right;\n",
       "    }\n",
       "</style>\n",
       "<table border=\"1\" class=\"dataframe\">\n",
       "  <thead>\n",
       "    <tr style=\"text-align: right;\">\n",
       "      <th></th>\n",
       "      <th>reviews</th>\n",
       "      <th>stars</th>\n",
       "      <th>date</th>\n",
       "      <th>country</th>\n",
       "    </tr>\n",
       "  </thead>\n",
       "  <tbody>\n",
       "    <tr>\n",
       "      <th>0</th>\n",
       "      <td>✅ Trip Verified | Probably the worst business ...</td>\n",
       "      <td>\\n\\t\\t\\t\\t\\t\\t\\t\\t\\t\\t\\t\\t\\t5</td>\n",
       "      <td>2nd January 2023</td>\n",
       "      <td>United States</td>\n",
       "    </tr>\n",
       "    <tr>\n",
       "      <th>1</th>\n",
       "      <td>✅ Trip Verified | Definitely not recommended, ...</td>\n",
       "      <td>1</td>\n",
       "      <td>2nd January 2023</td>\n",
       "      <td>United States</td>\n",
       "    </tr>\n",
       "    <tr>\n",
       "      <th>2</th>\n",
       "      <td>✅ Trip Verified |  BA shuttle service across t...</td>\n",
       "      <td>2</td>\n",
       "      <td>2nd January 2023</td>\n",
       "      <td>United Kingdom</td>\n",
       "    </tr>\n",
       "    <tr>\n",
       "      <th>3</th>\n",
       "      <td>✅ Trip Verified | I must admit like many other...</td>\n",
       "      <td>8</td>\n",
       "      <td>1st January 2023</td>\n",
       "      <td>United Kingdom</td>\n",
       "    </tr>\n",
       "    <tr>\n",
       "      <th>4</th>\n",
       "      <td>Not Verified |  When will BA update their Busi...</td>\n",
       "      <td>6</td>\n",
       "      <td>30th December 2022</td>\n",
       "      <td>United Kingdom</td>\n",
       "    </tr>\n",
       "  </tbody>\n",
       "</table>\n",
       "</div>"
      ],
      "text/plain": [
       "                                             reviews  \\\n",
       "0  ✅ Trip Verified | Probably the worst business ...   \n",
       "1  ✅ Trip Verified | Definitely not recommended, ...   \n",
       "2  ✅ Trip Verified |  BA shuttle service across t...   \n",
       "3  ✅ Trip Verified | I must admit like many other...   \n",
       "4  Not Verified |  When will BA update their Busi...   \n",
       "\n",
       "                           stars                date         country  \n",
       "0  \\n\\t\\t\\t\\t\\t\\t\\t\\t\\t\\t\\t\\t\\t5    2nd January 2023   United States  \n",
       "1                              1    2nd January 2023   United States  \n",
       "2                              2    2nd January 2023  United Kingdom  \n",
       "3                              8    1st January 2023  United Kingdom  \n",
       "4                              6  30th December 2022  United Kingdom  "
      ]
     },
     "execution_count": 18,
     "metadata": {},
     "output_type": "execute_result"
    }
   ],
   "source": [
    "df.head()"
   ]
  },
  {
   "cell_type": "code",
   "execution_count": 21,
   "id": "39573943",
   "metadata": {},
   "outputs": [
    {
     "data": {
      "text/plain": [
       "reviews    0\n",
       "stars      0\n",
       "date       0\n",
       "country    0\n",
       "dtype: int64"
      ]
     },
     "execution_count": 21,
     "metadata": {},
     "output_type": "execute_result"
    }
   ],
   "source": [
    "#check to see if we have any null values in our dataset\n",
    "df.isnull().sum()"
   ]
  },
  {
   "cell_type": "markdown",
   "id": "eccf41e3",
   "metadata": {},
   "source": [
    "#### We need to add an extra column to check if the trip was verified or not "
   ]
  },
  {
   "cell_type": "code",
   "execution_count": 22,
   "id": "ea41f13d",
   "metadata": {},
   "outputs": [
    {
     "data": {
      "text/html": [
       "<div>\n",
       "<style scoped>\n",
       "    .dataframe tbody tr th:only-of-type {\n",
       "        vertical-align: middle;\n",
       "    }\n",
       "\n",
       "    .dataframe tbody tr th {\n",
       "        vertical-align: top;\n",
       "    }\n",
       "\n",
       "    .dataframe thead th {\n",
       "        text-align: right;\n",
       "    }\n",
       "</style>\n",
       "<table border=\"1\" class=\"dataframe\">\n",
       "  <thead>\n",
       "    <tr style=\"text-align: right;\">\n",
       "      <th></th>\n",
       "      <th>reviews</th>\n",
       "      <th>stars</th>\n",
       "      <th>date</th>\n",
       "      <th>country</th>\n",
       "      <th>verified</th>\n",
       "    </tr>\n",
       "  </thead>\n",
       "  <tbody>\n",
       "    <tr>\n",
       "      <th>0</th>\n",
       "      <td>✅ Trip Verified | Probably the worst business ...</td>\n",
       "      <td>\\n\\t\\t\\t\\t\\t\\t\\t\\t\\t\\t\\t\\t\\t5</td>\n",
       "      <td>2nd January 2023</td>\n",
       "      <td>United States</td>\n",
       "      <td>True</td>\n",
       "    </tr>\n",
       "    <tr>\n",
       "      <th>1</th>\n",
       "      <td>✅ Trip Verified | Definitely not recommended, ...</td>\n",
       "      <td>1</td>\n",
       "      <td>2nd January 2023</td>\n",
       "      <td>United States</td>\n",
       "      <td>True</td>\n",
       "    </tr>\n",
       "    <tr>\n",
       "      <th>2</th>\n",
       "      <td>✅ Trip Verified |  BA shuttle service across t...</td>\n",
       "      <td>2</td>\n",
       "      <td>2nd January 2023</td>\n",
       "      <td>United Kingdom</td>\n",
       "      <td>True</td>\n",
       "    </tr>\n",
       "    <tr>\n",
       "      <th>3</th>\n",
       "      <td>✅ Trip Verified | I must admit like many other...</td>\n",
       "      <td>8</td>\n",
       "      <td>1st January 2023</td>\n",
       "      <td>United Kingdom</td>\n",
       "      <td>True</td>\n",
       "    </tr>\n",
       "    <tr>\n",
       "      <th>4</th>\n",
       "      <td>Not Verified |  When will BA update their Busi...</td>\n",
       "      <td>6</td>\n",
       "      <td>30th December 2022</td>\n",
       "      <td>United Kingdom</td>\n",
       "      <td>False</td>\n",
       "    </tr>\n",
       "    <tr>\n",
       "      <th>...</th>\n",
       "      <td>...</td>\n",
       "      <td>...</td>\n",
       "      <td>...</td>\n",
       "      <td>...</td>\n",
       "      <td>...</td>\n",
       "    </tr>\n",
       "    <tr>\n",
       "      <th>3446</th>\n",
       "      <td>YYZ to LHR - July 2012 - I flew overnight in p...</td>\n",
       "      <td>7</td>\n",
       "      <td>29th August 2012</td>\n",
       "      <td>Canada</td>\n",
       "      <td>False</td>\n",
       "    </tr>\n",
       "    <tr>\n",
       "      <th>3447</th>\n",
       "      <td>LHR to HAM. Purser addresses all club passenge...</td>\n",
       "      <td>1</td>\n",
       "      <td>28th August 2012</td>\n",
       "      <td>United Kingdom</td>\n",
       "      <td>False</td>\n",
       "    </tr>\n",
       "    <tr>\n",
       "      <th>3448</th>\n",
       "      <td>My son who had worked for British Airways urge...</td>\n",
       "      <td>9</td>\n",
       "      <td>12th October 2011</td>\n",
       "      <td>United Kingdom</td>\n",
       "      <td>False</td>\n",
       "    </tr>\n",
       "    <tr>\n",
       "      <th>3449</th>\n",
       "      <td>London City-New York JFK via Shannon on A318 b...</td>\n",
       "      <td>8</td>\n",
       "      <td>11th October 2011</td>\n",
       "      <td>United States</td>\n",
       "      <td>False</td>\n",
       "    </tr>\n",
       "    <tr>\n",
       "      <th>3450</th>\n",
       "      <td>SIN-LHR BA12 B747-436 First Class. Old aircraf...</td>\n",
       "      <td>10</td>\n",
       "      <td>9th October 2011</td>\n",
       "      <td>United Kingdom</td>\n",
       "      <td>False</td>\n",
       "    </tr>\n",
       "  </tbody>\n",
       "</table>\n",
       "<p>3451 rows × 5 columns</p>\n",
       "</div>"
      ],
      "text/plain": [
       "                                                reviews  \\\n",
       "0     ✅ Trip Verified | Probably the worst business ...   \n",
       "1     ✅ Trip Verified | Definitely not recommended, ...   \n",
       "2     ✅ Trip Verified |  BA shuttle service across t...   \n",
       "3     ✅ Trip Verified | I must admit like many other...   \n",
       "4     Not Verified |  When will BA update their Busi...   \n",
       "...                                                 ...   \n",
       "3446  YYZ to LHR - July 2012 - I flew overnight in p...   \n",
       "3447  LHR to HAM. Purser addresses all club passenge...   \n",
       "3448  My son who had worked for British Airways urge...   \n",
       "3449  London City-New York JFK via Shannon on A318 b...   \n",
       "3450  SIN-LHR BA12 B747-436 First Class. Old aircraf...   \n",
       "\n",
       "                              stars                date         country  \\\n",
       "0     \\n\\t\\t\\t\\t\\t\\t\\t\\t\\t\\t\\t\\t\\t5    2nd January 2023   United States   \n",
       "1                                 1    2nd January 2023   United States   \n",
       "2                                 2    2nd January 2023  United Kingdom   \n",
       "3                                 8    1st January 2023  United Kingdom   \n",
       "4                                 6  30th December 2022  United Kingdom   \n",
       "...                             ...                 ...             ...   \n",
       "3446                              7    29th August 2012          Canada   \n",
       "3447                              1    28th August 2012  United Kingdom   \n",
       "3448                              9   12th October 2011  United Kingdom   \n",
       "3449                              8   11th October 2011   United States   \n",
       "3450                             10    9th October 2011  United Kingdom   \n",
       "\n",
       "      verified  \n",
       "0         True  \n",
       "1         True  \n",
       "2         True  \n",
       "3         True  \n",
       "4        False  \n",
       "...        ...  \n",
       "3446     False  \n",
       "3447     False  \n",
       "3448     False  \n",
       "3449     False  \n",
       "3450     False  \n",
       "\n",
       "[3451 rows x 5 columns]"
      ]
     },
     "execution_count": 22,
     "metadata": {},
     "output_type": "execute_result"
    }
   ],
   "source": [
    "df['verified'] = df.reviews.str.contains(\"Trip Verified\")\n",
    "df"
   ]
  },
  {
   "cell_type": "code",
   "execution_count": 23,
   "id": "16d58bbc",
   "metadata": {},
   "outputs": [
    {
     "data": {
      "text/plain": [
       "reviews     object\n",
       "stars       object\n",
       "date        object\n",
       "country     object\n",
       "verified      bool\n",
       "dtype: object"
      ]
     },
     "execution_count": 23,
     "metadata": {},
     "output_type": "execute_result"
    }
   ],
   "source": [
    "#check the datatypes of the columns \n",
    "df.dtypes"
   ]
  },
  {
   "cell_type": "code",
   "execution_count": 25,
   "id": "a4277ef9",
   "metadata": {},
   "outputs": [
    {
     "data": {
      "text/html": [
       "<div>\n",
       "<style scoped>\n",
       "    .dataframe tbody tr th:only-of-type {\n",
       "        vertical-align: middle;\n",
       "    }\n",
       "\n",
       "    .dataframe tbody tr th {\n",
       "        vertical-align: top;\n",
       "    }\n",
       "\n",
       "    .dataframe thead th {\n",
       "        text-align: right;\n",
       "    }\n",
       "</style>\n",
       "<table border=\"1\" class=\"dataframe\">\n",
       "  <thead>\n",
       "    <tr style=\"text-align: right;\">\n",
       "      <th></th>\n",
       "      <th>reviews</th>\n",
       "      <th>stars</th>\n",
       "      <th>date</th>\n",
       "      <th>country</th>\n",
       "      <th>verified</th>\n",
       "    </tr>\n",
       "  </thead>\n",
       "  <tbody>\n",
       "    <tr>\n",
       "      <th>0</th>\n",
       "      <td>✅ Trip Verified | Probably the worst business ...</td>\n",
       "      <td>\\n\\t\\t\\t\\t\\t\\t\\t\\t\\t\\t\\t\\t\\t5</td>\n",
       "      <td>2023-01-02</td>\n",
       "      <td>United States</td>\n",
       "      <td>True</td>\n",
       "    </tr>\n",
       "    <tr>\n",
       "      <th>1</th>\n",
       "      <td>✅ Trip Verified | Definitely not recommended, ...</td>\n",
       "      <td>1</td>\n",
       "      <td>2023-01-02</td>\n",
       "      <td>United States</td>\n",
       "      <td>True</td>\n",
       "    </tr>\n",
       "    <tr>\n",
       "      <th>2</th>\n",
       "      <td>✅ Trip Verified |  BA shuttle service across t...</td>\n",
       "      <td>2</td>\n",
       "      <td>2023-01-02</td>\n",
       "      <td>United Kingdom</td>\n",
       "      <td>True</td>\n",
       "    </tr>\n",
       "    <tr>\n",
       "      <th>3</th>\n",
       "      <td>✅ Trip Verified | I must admit like many other...</td>\n",
       "      <td>8</td>\n",
       "      <td>2023-01-01</td>\n",
       "      <td>United Kingdom</td>\n",
       "      <td>True</td>\n",
       "    </tr>\n",
       "    <tr>\n",
       "      <th>4</th>\n",
       "      <td>Not Verified |  When will BA update their Busi...</td>\n",
       "      <td>6</td>\n",
       "      <td>2022-12-30</td>\n",
       "      <td>United Kingdom</td>\n",
       "      <td>False</td>\n",
       "    </tr>\n",
       "  </tbody>\n",
       "</table>\n",
       "</div>"
      ],
      "text/plain": [
       "                                             reviews  \\\n",
       "0  ✅ Trip Verified | Probably the worst business ...   \n",
       "1  ✅ Trip Verified | Definitely not recommended, ...   \n",
       "2  ✅ Trip Verified |  BA shuttle service across t...   \n",
       "3  ✅ Trip Verified | I must admit like many other...   \n",
       "4  Not Verified |  When will BA update their Busi...   \n",
       "\n",
       "                           stars       date         country  verified  \n",
       "0  \\n\\t\\t\\t\\t\\t\\t\\t\\t\\t\\t\\t\\t\\t5 2023-01-02   United States      True  \n",
       "1                              1 2023-01-02   United States      True  \n",
       "2                              2 2023-01-02  United Kingdom      True  \n",
       "3                              8 2023-01-01  United Kingdom      True  \n",
       "4                              6 2022-12-30  United Kingdom     False  "
      ]
     },
     "execution_count": 25,
     "metadata": {},
     "output_type": "execute_result"
    }
   ],
   "source": [
    "#we need to convert the date column to a datetime \n",
    "df['date'] = pd.to_datetime(df['date'])\n",
    "df.head()"
   ]
  },
  {
   "cell_type": "code",
   "execution_count": 26,
   "id": "a4d608d9",
   "metadata": {},
   "outputs": [
    {
     "data": {
      "text/plain": [
       "reviews             object\n",
       "stars               object\n",
       "date        datetime64[ns]\n",
       "country             object\n",
       "verified              bool\n",
       "dtype: object"
      ]
     },
     "execution_count": 26,
     "metadata": {},
     "output_type": "execute_result"
    }
   ],
   "source": [
    "df.dtypes"
   ]
  },
  {
   "cell_type": "markdown",
   "id": "bd011105",
   "metadata": {},
   "source": [
    "#### Cleaning the stars column to remove inconsistencies"
   ]
  },
  {
   "cell_type": "code",
   "execution_count": 28,
   "id": "a310ad61",
   "metadata": {},
   "outputs": [
    {
     "data": {
      "text/plain": [
       "array(['\\n\\t\\t\\t\\t\\t\\t\\t\\t\\t\\t\\t\\t\\t5', '1', '2', '8', '6', '4', '3', '5',\n",
       "       '9', '7', '10', 'None'], dtype=object)"
      ]
     },
     "execution_count": 28,
     "metadata": {},
     "output_type": "execute_result"
    }
   ],
   "source": [
    "df['stars'].unique()"
   ]
  },
  {
   "cell_type": "code",
   "execution_count": 31,
   "id": "5cc24c58",
   "metadata": {},
   "outputs": [],
   "source": [
    "#Removing the new line and new tab from the records\n",
    "df.stars = df.stars.str.strip(\"\\n\\t\")"
   ]
  },
  {
   "cell_type": "code",
   "execution_count": 32,
   "id": "4267aceb",
   "metadata": {},
   "outputs": [
    {
     "data": {
      "text/plain": [
       "array(['5', '1', '2', '8', '6', '4', '3', '9', '7', '10', 'None'],\n",
       "      dtype=object)"
      ]
     },
     "execution_count": 32,
     "metadata": {},
     "output_type": "execute_result"
    }
   ],
   "source": [
    "df.stars.unique()"
   ]
  },
  {
   "cell_type": "code",
   "execution_count": 33,
   "id": "c46770cf",
   "metadata": {},
   "outputs": [
    {
     "data": {
      "text/plain": [
       "1       745\n",
       "2       387\n",
       "3       379\n",
       "8       350\n",
       "10      310\n",
       "7       303\n",
       "9       295\n",
       "5       261\n",
       "4       232\n",
       "6       184\n",
       "None      5\n",
       "Name: stars, dtype: int64"
      ]
     },
     "execution_count": 33,
     "metadata": {},
     "output_type": "execute_result"
    }
   ],
   "source": [
    "df.stars.value_counts()"
   ]
  },
  {
   "cell_type": "markdown",
   "id": "55d95140",
   "metadata": {},
   "source": [
    "There are 5 rows with 'None' as star ratings, and since we need every record to have a star rating, we would be removing these records"
   ]
  },
  {
   "cell_type": "code",
   "execution_count": 34,
   "id": "c6c008f5",
   "metadata": {},
   "outputs": [],
   "source": [
    "df = df[df['stars'] != 'None']"
   ]
  },
  {
   "cell_type": "code",
   "execution_count": 35,
   "id": "4f580a16",
   "metadata": {},
   "outputs": [
    {
     "data": {
      "text/plain": [
       "array(['5', '1', '2', '8', '6', '4', '3', '9', '7', '10'], dtype=object)"
      ]
     },
     "execution_count": 35,
     "metadata": {},
     "output_type": "execute_result"
    }
   ],
   "source": [
    "df.stars.unique()"
   ]
  },
  {
   "cell_type": "code",
   "execution_count": 36,
   "id": "099cce7c",
   "metadata": {},
   "outputs": [
    {
     "data": {
      "text/plain": [
       "(3446, 5)"
      ]
     },
     "execution_count": 36,
     "metadata": {},
     "output_type": "execute_result"
    }
   ],
   "source": [
    "df.shape"
   ]
  },
  {
   "cell_type": "code",
   "execution_count": 37,
   "id": "93dc6879",
   "metadata": {},
   "outputs": [
    {
     "data": {
      "text/plain": [
       "reviews             object\n",
       "stars               object\n",
       "date        datetime64[ns]\n",
       "country             object\n",
       "verified              bool\n",
       "dtype: object"
      ]
     },
     "execution_count": 37,
     "metadata": {},
     "output_type": "execute_result"
    }
   ],
   "source": [
    "df.dtypes"
   ]
  },
  {
   "cell_type": "code",
   "execution_count": 39,
   "id": "0479ce5a",
   "metadata": {},
   "outputs": [],
   "source": [
    "#Converting the stars column to an integer \n",
    "df.stars = df['stars'].astype(int)"
   ]
  },
  {
   "cell_type": "code",
   "execution_count": 40,
   "id": "92f000d8",
   "metadata": {},
   "outputs": [
    {
     "data": {
      "text/plain": [
       "reviews             object\n",
       "stars                int32\n",
       "date        datetime64[ns]\n",
       "country             object\n",
       "verified              bool\n",
       "dtype: object"
      ]
     },
     "execution_count": 40,
     "metadata": {},
     "output_type": "execute_result"
    }
   ],
   "source": [
    "df.dtypes"
   ]
  },
  {
   "cell_type": "code",
   "execution_count": 41,
   "id": "9fe8ebfb",
   "metadata": {},
   "outputs": [
    {
     "data": {
      "text/html": [
       "<div>\n",
       "<style scoped>\n",
       "    .dataframe tbody tr th:only-of-type {\n",
       "        vertical-align: middle;\n",
       "    }\n",
       "\n",
       "    .dataframe tbody tr th {\n",
       "        vertical-align: top;\n",
       "    }\n",
       "\n",
       "    .dataframe thead th {\n",
       "        text-align: right;\n",
       "    }\n",
       "</style>\n",
       "<table border=\"1\" class=\"dataframe\">\n",
       "  <thead>\n",
       "    <tr style=\"text-align: right;\">\n",
       "      <th></th>\n",
       "      <th>reviews</th>\n",
       "      <th>stars</th>\n",
       "      <th>date</th>\n",
       "      <th>country</th>\n",
       "      <th>verified</th>\n",
       "    </tr>\n",
       "  </thead>\n",
       "  <tbody>\n",
       "    <tr>\n",
       "      <th>0</th>\n",
       "      <td>✅ Trip Verified | Probably the worst business ...</td>\n",
       "      <td>5</td>\n",
       "      <td>2023-01-02</td>\n",
       "      <td>United States</td>\n",
       "      <td>True</td>\n",
       "    </tr>\n",
       "    <tr>\n",
       "      <th>1</th>\n",
       "      <td>✅ Trip Verified | Definitely not recommended, ...</td>\n",
       "      <td>1</td>\n",
       "      <td>2023-01-02</td>\n",
       "      <td>United States</td>\n",
       "      <td>True</td>\n",
       "    </tr>\n",
       "    <tr>\n",
       "      <th>2</th>\n",
       "      <td>✅ Trip Verified |  BA shuttle service across t...</td>\n",
       "      <td>2</td>\n",
       "      <td>2023-01-02</td>\n",
       "      <td>United Kingdom</td>\n",
       "      <td>True</td>\n",
       "    </tr>\n",
       "    <tr>\n",
       "      <th>3</th>\n",
       "      <td>✅ Trip Verified | I must admit like many other...</td>\n",
       "      <td>8</td>\n",
       "      <td>2023-01-01</td>\n",
       "      <td>United Kingdom</td>\n",
       "      <td>True</td>\n",
       "    </tr>\n",
       "    <tr>\n",
       "      <th>4</th>\n",
       "      <td>Not Verified |  When will BA update their Busi...</td>\n",
       "      <td>6</td>\n",
       "      <td>2022-12-30</td>\n",
       "      <td>United Kingdom</td>\n",
       "      <td>False</td>\n",
       "    </tr>\n",
       "  </tbody>\n",
       "</table>\n",
       "</div>"
      ],
      "text/plain": [
       "                                             reviews  stars       date  \\\n",
       "0  ✅ Trip Verified | Probably the worst business ...      5 2023-01-02   \n",
       "1  ✅ Trip Verified | Definitely not recommended, ...      1 2023-01-02   \n",
       "2  ✅ Trip Verified |  BA shuttle service across t...      2 2023-01-02   \n",
       "3  ✅ Trip Verified | I must admit like many other...      8 2023-01-01   \n",
       "4  Not Verified |  When will BA update their Busi...      6 2022-12-30   \n",
       "\n",
       "          country  verified  \n",
       "0   United States      True  \n",
       "1   United States      True  \n",
       "2  United Kingdom      True  \n",
       "3  United Kingdom      True  \n",
       "4  United Kingdom     False  "
      ]
     },
     "execution_count": 41,
     "metadata": {},
     "output_type": "execute_result"
    }
   ],
   "source": [
    "df.head()"
   ]
  },
  {
   "cell_type": "code",
   "execution_count": 42,
   "id": "e2eb0c40",
   "metadata": {},
   "outputs": [
    {
     "data": {
      "text/plain": [
       "array(['United States', 'United Kingdom', 'Canada', 'France',\n",
       "       'New Zealand', 'Czech Republic', 'Italy', 'Malaysia',\n",
       "       'United Arab Emirates', 'Singapore', 'Netherlands', 'Australia',\n",
       "       'Ireland', 'South Africa', 'Ghana', 'Hong Kong', 'Germany',\n",
       "       'Switzerland', 'Bermuda', 'Botswana', 'Brazil', 'Panama', 'Sweden',\n",
       "       'Greece', 'Nigeria', 'Russian Federation', 'Philippines', 'Spain',\n",
       "       'Bulgaria', 'Poland', 'Thailand', 'Argentina', 'Mexico', 'Denmark',\n",
       "       'India', 'Saint Kitts and Nevis', 'Vietnam', 'Belgium', 'Norway',\n",
       "       'Jordan', 'Japan', 'Taiwan', 'China', 'Slovakia', 'Kuwait',\n",
       "       'Israel', 'Qatar', 'Romania', 'South Korea', 'Saudi Arabia',\n",
       "       'Hungary', 'Austria', 'Portugal', 'Cayman Islands', 'Costa Rica',\n",
       "       'Egypt', 'Iceland', 'Laos', 'Turkey', 'Indonesia', 'Bahrain',\n",
       "       'Dominican Republic', 'Cyprus', 'Luxembourg', 'Finland', 'Ukraine',\n",
       "       '', 'Trinidad & Tobago', 'Barbados', 'Oman'], dtype=object)"
      ]
     },
     "execution_count": 42,
     "metadata": {},
     "output_type": "execute_result"
    }
   ],
   "source": [
    "df.country.unique()"
   ]
  },
  {
   "cell_type": "code",
   "execution_count": 43,
   "id": "eab3b37f",
   "metadata": {},
   "outputs": [
    {
     "data": {
      "text/html": [
       "<div>\n",
       "<style scoped>\n",
       "    .dataframe tbody tr th:only-of-type {\n",
       "        vertical-align: middle;\n",
       "    }\n",
       "\n",
       "    .dataframe tbody tr th {\n",
       "        vertical-align: top;\n",
       "    }\n",
       "\n",
       "    .dataframe thead th {\n",
       "        text-align: right;\n",
       "    }\n",
       "</style>\n",
       "<table border=\"1\" class=\"dataframe\">\n",
       "  <thead>\n",
       "    <tr style=\"text-align: right;\">\n",
       "      <th></th>\n",
       "      <th>reviews</th>\n",
       "      <th>stars</th>\n",
       "      <th>date</th>\n",
       "      <th>country</th>\n",
       "      <th>verified</th>\n",
       "    </tr>\n",
       "  </thead>\n",
       "  <tbody>\n",
       "    <tr>\n",
       "      <th>2807</th>\n",
       "      <td>I travelled from London to Jo'burg and back on...</td>\n",
       "      <td>4</td>\n",
       "      <td>2015-04-08</td>\n",
       "      <td></td>\n",
       "      <td>False</td>\n",
       "    </tr>\n",
       "    <tr>\n",
       "      <th>3112</th>\n",
       "      <td>St Lucia to London round trip. Full flight bot...</td>\n",
       "      <td>8</td>\n",
       "      <td>2014-10-20</td>\n",
       "      <td></td>\n",
       "      <td>False</td>\n",
       "    </tr>\n",
       "  </tbody>\n",
       "</table>\n",
       "</div>"
      ],
      "text/plain": [
       "                                                reviews  stars       date  \\\n",
       "2807  I travelled from London to Jo'burg and back on...      4 2015-04-08   \n",
       "3112  St Lucia to London round trip. Full flight bot...      8 2014-10-20   \n",
       "\n",
       "     country  verified  \n",
       "2807             False  \n",
       "3112             False  "
      ]
     },
     "execution_count": 43,
     "metadata": {},
     "output_type": "execute_result"
    }
   ],
   "source": [
    "df[df['country'] == '']"
   ]
  },
  {
   "cell_type": "code",
   "execution_count": 44,
   "id": "870b3f8f",
   "metadata": {},
   "outputs": [],
   "source": [
    "#We can see 2 reviews dont include the country of the reviewer \n",
    "df = df[df['country'] != '']"
   ]
  },
  {
   "cell_type": "code",
   "execution_count": 48,
   "id": "9dfb6ba4",
   "metadata": {},
   "outputs": [
    {
     "data": {
      "text/plain": [
       "array(['United States', 'United Kingdom', 'Canada', 'France',\n",
       "       'New Zealand', 'Czech Republic', 'Italy', 'Malaysia',\n",
       "       'United Arab Emirates', 'Singapore', 'Netherlands', 'Australia',\n",
       "       'Ireland', 'South Africa', 'Ghana', 'Hong Kong', 'Germany',\n",
       "       'Switzerland', 'Bermuda', 'Botswana', 'Brazil', 'Panama', 'Sweden',\n",
       "       'Greece', 'Nigeria', 'Russian Federation', 'Philippines', 'Spain',\n",
       "       'Bulgaria', 'Poland', 'Thailand', 'Argentina', 'Mexico', 'Denmark',\n",
       "       'India', 'Saint Kitts and Nevis', 'Vietnam', 'Belgium', 'Norway',\n",
       "       'Jordan', 'Japan', 'Taiwan', 'China', 'Slovakia', 'Kuwait',\n",
       "       'Israel', 'Qatar', 'Romania', 'South Korea', 'Saudi Arabia',\n",
       "       'Hungary', 'Austria', 'Portugal', 'Cayman Islands', 'Costa Rica',\n",
       "       'Egypt', 'Iceland', 'Laos', 'Turkey', 'Indonesia', 'Bahrain',\n",
       "       'Dominican Republic', 'Cyprus', 'Luxembourg', 'Finland', 'Ukraine',\n",
       "       'Trinidad & Tobago', 'Barbados', 'Oman'], dtype=object)"
      ]
     },
     "execution_count": 48,
     "metadata": {},
     "output_type": "execute_result"
    }
   ],
   "source": [
    "df.country.unique()"
   ]
  },
  {
   "cell_type": "markdown",
   "id": "b1d77f38",
   "metadata": {},
   "source": [
    "#### Cleaning Reviews"
   ]
  },
  {
   "cell_type": "markdown",
   "id": "b8ca5da3",
   "metadata": {},
   "source": [
    "We will extract the column of reviews into a separate dataframe and clean it for semantic analysis"
   ]
  },
  {
   "cell_type": "code",
   "execution_count": 52,
   "id": "993e3d05",
   "metadata": {},
   "outputs": [
    {
     "name": "stdout",
     "output_type": "stream",
     "text": [
      "Requirement already satisfied: nltk in c:\\users\\oluwatobi.ojo\\documents\\anaconda\\lib\\site-packages (3.6.5)\n",
      "Requirement already satisfied: click in c:\\users\\oluwatobi.ojo\\documents\\anaconda\\lib\\site-packages (from nltk) (8.0.3)\n",
      "Requirement already satisfied: joblib in c:\\users\\oluwatobi.ojo\\documents\\anaconda\\lib\\site-packages (from nltk) (1.1.0)\n",
      "Requirement already satisfied: regex>=2021.8.3 in c:\\users\\oluwatobi.ojo\\documents\\anaconda\\lib\\site-packages (from nltk) (2021.8.3)\n",
      "Requirement already satisfied: tqdm in c:\\users\\oluwatobi.ojo\\documents\\anaconda\\lib\\site-packages (from nltk) (4.62.3)\n",
      "Requirement already satisfied: colorama in c:\\users\\oluwatobi.ojo\\documents\\anaconda\\lib\\site-packages (from click->nltk) (0.4.4)\n"
     ]
    }
   ],
   "source": [
    "!pip install nltk"
   ]
  },
  {
   "cell_type": "code",
   "execution_count": 53,
   "id": "58de73fd",
   "metadata": {},
   "outputs": [
    {
     "name": "stderr",
     "output_type": "stream",
     "text": [
      "[nltk_data] Downloading package stopwords to\n",
      "[nltk_data]     C:\\Users\\Oluwatobi.Ojo\\AppData\\Roaming\\nltk_data...\n",
      "[nltk_data]   Unzipping corpora\\stopwords.zip.\n"
     ]
    },
    {
     "data": {
      "text/plain": [
       "True"
      ]
     },
     "execution_count": 53,
     "metadata": {},
     "output_type": "execute_result"
    }
   ],
   "source": [
    "nltk.download('stopwords')"
   ]
  },
  {
   "cell_type": "code",
   "execution_count": 57,
   "id": "d5377164",
   "metadata": {},
   "outputs": [],
   "source": [
    "from nltk.stem import WordNetLemmatizer\n",
    "from nltk.corpus import stopwords"
   ]
  },
  {
   "cell_type": "code",
   "execution_count": 60,
   "id": "783d51ca",
   "metadata": {},
   "outputs": [
    {
     "name": "stderr",
     "output_type": "stream",
     "text": [
      "[nltk_data] Downloading package wordnet to\n",
      "[nltk_data]     C:\\Users\\Oluwatobi.Ojo\\AppData\\Roaming\\nltk_data...\n"
     ]
    },
    {
     "data": {
      "text/plain": [
       "True"
      ]
     },
     "execution_count": 60,
     "metadata": {},
     "output_type": "execute_result"
    }
   ],
   "source": [
    "nltk.download('wordnet')"
   ]
  },
  {
   "cell_type": "code",
   "execution_count": 61,
   "id": "c9ebf07b",
   "metadata": {},
   "outputs": [],
   "source": [
    "#for lemmatization of words we will use nltk library\n",
    "from nltk.stem import WordNetLemmatizer\n",
    "from nltk.corpus import stopwords\n",
    "import re\n",
    "\n",
    "lemma = WordNetLemmatizer()\n",
    "\n",
    "\n",
    "reviews_data = df.reviews.str.strip(\"✅ Trip Verified |\")\n",
    "\n",
    "#create an empty list to collect cleaned data corpus\n",
    "corpus =[]\n",
    "\n",
    "#loop through each review, remove punctuations, small case it, join it and add it to corpus\n",
    "for rev in reviews_data:\n",
    "    rev = re.sub('[^a-zA-Z]',' ', rev)\n",
    "    rev = rev.lower()\n",
    "    rev = rev.split()\n",
    "    rev = [lemma.lemmatize(word) for word in rev if word not in set(stopwords.words(\"english\"))]\n",
    "    rev = \" \".join(rev)\n",
    "    corpus.append(rev)"
   ]
  },
  {
   "cell_type": "code",
   "execution_count": 64,
   "id": "baef7206",
   "metadata": {},
   "outputs": [],
   "source": [
    "df['corpus'] = corpus"
   ]
  },
  {
   "cell_type": "code",
   "execution_count": 65,
   "id": "f9a6fddf",
   "metadata": {},
   "outputs": [
    {
     "data": {
      "text/html": [
       "<div>\n",
       "<style scoped>\n",
       "    .dataframe tbody tr th:only-of-type {\n",
       "        vertical-align: middle;\n",
       "    }\n",
       "\n",
       "    .dataframe tbody tr th {\n",
       "        vertical-align: top;\n",
       "    }\n",
       "\n",
       "    .dataframe thead th {\n",
       "        text-align: right;\n",
       "    }\n",
       "</style>\n",
       "<table border=\"1\" class=\"dataframe\">\n",
       "  <thead>\n",
       "    <tr style=\"text-align: right;\">\n",
       "      <th></th>\n",
       "      <th>reviews</th>\n",
       "      <th>stars</th>\n",
       "      <th>date</th>\n",
       "      <th>country</th>\n",
       "      <th>verified</th>\n",
       "      <th>corpus</th>\n",
       "    </tr>\n",
       "  </thead>\n",
       "  <tbody>\n",
       "    <tr>\n",
       "      <th>0</th>\n",
       "      <td>✅ Trip Verified | Probably the worst business ...</td>\n",
       "      <td>5</td>\n",
       "      <td>2023-01-02</td>\n",
       "      <td>United States</td>\n",
       "      <td>True</td>\n",
       "      <td>probably worst business class experience ever ...</td>\n",
       "    </tr>\n",
       "    <tr>\n",
       "      <th>1</th>\n",
       "      <td>✅ Trip Verified | Definitely not recommended, ...</td>\n",
       "      <td>1</td>\n",
       "      <td>2023-01-02</td>\n",
       "      <td>United States</td>\n",
       "      <td>True</td>\n",
       "      <td>definitely recommended especially business cla...</td>\n",
       "    </tr>\n",
       "    <tr>\n",
       "      <th>2</th>\n",
       "      <td>✅ Trip Verified |  BA shuttle service across t...</td>\n",
       "      <td>2</td>\n",
       "      <td>2023-01-02</td>\n",
       "      <td>United Kingdom</td>\n",
       "      <td>True</td>\n",
       "      <td>ba shuttle service across uk still surprisingl...</td>\n",
       "    </tr>\n",
       "    <tr>\n",
       "      <th>3</th>\n",
       "      <td>✅ Trip Verified | I must admit like many other...</td>\n",
       "      <td>8</td>\n",
       "      <td>2023-01-01</td>\n",
       "      <td>United Kingdom</td>\n",
       "      <td>True</td>\n",
       "      <td>must admit like many others tend avoid ba long...</td>\n",
       "    </tr>\n",
       "    <tr>\n",
       "      <th>4</th>\n",
       "      <td>Not Verified |  When will BA update their Busi...</td>\n",
       "      <td>6</td>\n",
       "      <td>2022-12-30</td>\n",
       "      <td>United Kingdom</td>\n",
       "      <td>False</td>\n",
       "      <td>verified ba update business class cabin across...</td>\n",
       "    </tr>\n",
       "  </tbody>\n",
       "</table>\n",
       "</div>"
      ],
      "text/plain": [
       "                                             reviews  stars       date  \\\n",
       "0  ✅ Trip Verified | Probably the worst business ...      5 2023-01-02   \n",
       "1  ✅ Trip Verified | Definitely not recommended, ...      1 2023-01-02   \n",
       "2  ✅ Trip Verified |  BA shuttle service across t...      2 2023-01-02   \n",
       "3  ✅ Trip Verified | I must admit like many other...      8 2023-01-01   \n",
       "4  Not Verified |  When will BA update their Busi...      6 2022-12-30   \n",
       "\n",
       "          country  verified                                             corpus  \n",
       "0   United States      True  probably worst business class experience ever ...  \n",
       "1   United States      True  definitely recommended especially business cla...  \n",
       "2  United Kingdom      True  ba shuttle service across uk still surprisingl...  \n",
       "3  United Kingdom      True  must admit like many others tend avoid ba long...  \n",
       "4  United Kingdom     False  verified ba update business class cabin across...  "
      ]
     },
     "execution_count": 65,
     "metadata": {},
     "output_type": "execute_result"
    }
   ],
   "source": [
    "df.head()"
   ]
  },
  {
   "cell_type": "code",
   "execution_count": 66,
   "id": "9872c741",
   "metadata": {},
   "outputs": [],
   "source": [
    "#Renaming the column name to a better name \n",
    "df.rename(columns={'corpus': 'review_raw_text'}, inplace=True)"
   ]
  },
  {
   "cell_type": "code",
   "execution_count": 67,
   "id": "ebd5d97c",
   "metadata": {},
   "outputs": [
    {
     "data": {
      "text/html": [
       "<div>\n",
       "<style scoped>\n",
       "    .dataframe tbody tr th:only-of-type {\n",
       "        vertical-align: middle;\n",
       "    }\n",
       "\n",
       "    .dataframe tbody tr th {\n",
       "        vertical-align: top;\n",
       "    }\n",
       "\n",
       "    .dataframe thead th {\n",
       "        text-align: right;\n",
       "    }\n",
       "</style>\n",
       "<table border=\"1\" class=\"dataframe\">\n",
       "  <thead>\n",
       "    <tr style=\"text-align: right;\">\n",
       "      <th></th>\n",
       "      <th>reviews</th>\n",
       "      <th>stars</th>\n",
       "      <th>date</th>\n",
       "      <th>country</th>\n",
       "      <th>verified</th>\n",
       "      <th>review_raw_text</th>\n",
       "    </tr>\n",
       "  </thead>\n",
       "  <tbody>\n",
       "    <tr>\n",
       "      <th>0</th>\n",
       "      <td>✅ Trip Verified | Probably the worst business ...</td>\n",
       "      <td>5</td>\n",
       "      <td>2023-01-02</td>\n",
       "      <td>United States</td>\n",
       "      <td>True</td>\n",
       "      <td>probably worst business class experience ever ...</td>\n",
       "    </tr>\n",
       "    <tr>\n",
       "      <th>1</th>\n",
       "      <td>✅ Trip Verified | Definitely not recommended, ...</td>\n",
       "      <td>1</td>\n",
       "      <td>2023-01-02</td>\n",
       "      <td>United States</td>\n",
       "      <td>True</td>\n",
       "      <td>definitely recommended especially business cla...</td>\n",
       "    </tr>\n",
       "    <tr>\n",
       "      <th>2</th>\n",
       "      <td>✅ Trip Verified |  BA shuttle service across t...</td>\n",
       "      <td>2</td>\n",
       "      <td>2023-01-02</td>\n",
       "      <td>United Kingdom</td>\n",
       "      <td>True</td>\n",
       "      <td>ba shuttle service across uk still surprisingl...</td>\n",
       "    </tr>\n",
       "    <tr>\n",
       "      <th>3</th>\n",
       "      <td>✅ Trip Verified | I must admit like many other...</td>\n",
       "      <td>8</td>\n",
       "      <td>2023-01-01</td>\n",
       "      <td>United Kingdom</td>\n",
       "      <td>True</td>\n",
       "      <td>must admit like many others tend avoid ba long...</td>\n",
       "    </tr>\n",
       "    <tr>\n",
       "      <th>4</th>\n",
       "      <td>Not Verified |  When will BA update their Busi...</td>\n",
       "      <td>6</td>\n",
       "      <td>2022-12-30</td>\n",
       "      <td>United Kingdom</td>\n",
       "      <td>False</td>\n",
       "      <td>verified ba update business class cabin across...</td>\n",
       "    </tr>\n",
       "  </tbody>\n",
       "</table>\n",
       "</div>"
      ],
      "text/plain": [
       "                                             reviews  stars       date  \\\n",
       "0  ✅ Trip Verified | Probably the worst business ...      5 2023-01-02   \n",
       "1  ✅ Trip Verified | Definitely not recommended, ...      1 2023-01-02   \n",
       "2  ✅ Trip Verified |  BA shuttle service across t...      2 2023-01-02   \n",
       "3  ✅ Trip Verified | I must admit like many other...      8 2023-01-01   \n",
       "4  Not Verified |  When will BA update their Busi...      6 2022-12-30   \n",
       "\n",
       "          country  verified                                    review_raw_text  \n",
       "0   United States      True  probably worst business class experience ever ...  \n",
       "1   United States      True  definitely recommended especially business cla...  \n",
       "2  United Kingdom      True  ba shuttle service across uk still surprisingl...  \n",
       "3  United Kingdom      True  must admit like many others tend avoid ba long...  \n",
       "4  United Kingdom     False  verified ba update business class cabin across...  "
      ]
     },
     "execution_count": 67,
     "metadata": {},
     "output_type": "execute_result"
    }
   ],
   "source": [
    "df.head()"
   ]
  },
  {
   "cell_type": "markdown",
   "id": "cbccb76a",
   "metadata": {},
   "source": [
    "Our data is clean now and we can now perform exploratory data analysis on it "
   ]
  },
  {
   "cell_type": "code",
   "execution_count": 68,
   "id": "473352a9",
   "metadata": {},
   "outputs": [],
   "source": [
    "#Exporting the cleaned data\n",
    "df.to_csv(\"cleaned-BA-reviews.csv\", index=False)"
   ]
  },
  {
   "cell_type": "code",
   "execution_count": null,
   "id": "fc118a83",
   "metadata": {},
   "outputs": [],
   "source": []
  }
 ],
 "metadata": {
  "kernelspec": {
   "display_name": "Python 3 (ipykernel)",
   "language": "python",
   "name": "python3"
  },
  "language_info": {
   "codemirror_mode": {
    "name": "ipython",
    "version": 3
   },
   "file_extension": ".py",
   "mimetype": "text/x-python",
   "name": "python",
   "nbconvert_exporter": "python",
   "pygments_lexer": "ipython3",
   "version": "3.9.7"
  }
 },
 "nbformat": 4,
 "nbformat_minor": 5
}
